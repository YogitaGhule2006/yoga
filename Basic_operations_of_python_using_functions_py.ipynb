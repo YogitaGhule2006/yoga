{
  "nbformat": 4,
  "nbformat_minor": 0,
  "metadata": {
    "colab": {
      "provenance": [],
      "authorship_tag": "ABX9TyNRcuIy/c2ut3gtfMpfYL35",
      "include_colab_link": true
    },
    "kernelspec": {
      "name": "python3",
      "display_name": "Python 3"
    },
    "language_info": {
      "name": "python"
    }
  },
  "cells": [
    {
      "cell_type": "markdown",
      "metadata": {
        "id": "view-in-github",
        "colab_type": "text"
      },
      "source": [
        "<a href=\"https://colab.research.google.com/github/YogitaGhule2006/yoga/blob/main/Basic_operations_of_python_using_functions_py.ipynb\" target=\"_parent\"><img src=\"https://colab.research.google.com/assets/colab-badge.svg\" alt=\"Open In Colab\"/></a>"
      ]
    },
    {
      "cell_type": "code",
      "source": [
        "# Function to append an element to the list\n",
        "def append_to_list(lst, element):\n",
        "    lst.append(element)\n",
        "    return lst\n",
        "\n",
        "# Function to remove an element from the list\n",
        "def remove_from_list(lst, element):\n",
        "    if element in lst:\n",
        "        lst.remove(element)\n",
        "    else:\n",
        "        return \"Element not found in the list.\"\n",
        "    return lst\n",
        "\n",
        "# Function to find the length of the list\n",
        "def length_of_list(lst):\n",
        "    return len(lst)\n",
        "\n",
        "# Function to check if an element exists in the list\n",
        "def contains_in_list(lst, element):\n",
        "    return element in lst\n",
        "\n",
        "# Function to reverse the list\n",
        "def reverse_list(lst):\n",
        "    return lst[::-1]\n",
        "\n",
        "# Function to sort the list\n",
        "def sort_list(lst):\n",
        "    return sorted(lst)\n",
        "\n",
        "# Test with an example list\n",
        "lst = [3, 5, 7, 2, 8]\n",
        "\n",
        "print(f\"Original list: {lst}\")\n",
        "print(f\"Appended 10: {append_to_list(lst, 10)}\")\n",
        "print(f\"List after removing 5: {remove_from_list(lst, 5)}\")\n",
        "print(f\"Length of the list: {length_of_list(lst)}\")\n",
        "print(f\"Does 7 exist in the list? {contains_in_list(lst, 7)}\")\n",
        "print(f\"Reversed list: {reverse_list(lst)}\")\n",
        "print(f\"Sorted list: {sort_list(lst)}\")\n"
      ],
      "metadata": {
        "colab": {
          "base_uri": "https://localhost:8080/"
        },
        "id": "qSZPIl5b10qr",
        "outputId": "38eed4a4-54da-4dd6-9832-83440689202e"
      },
      "execution_count": null,
      "outputs": [
        {
          "output_type": "stream",
          "name": "stdout",
          "text": [
            "Original list: [3, 5, 7, 2, 8]\n",
            "Appended 10: [3, 5, 7, 2, 8, 10]\n",
            "List after removing 5: [3, 7, 2, 8, 10]\n",
            "Length of the list: 5\n",
            "Does 7 exist in the list? True\n",
            "Reversed list: [10, 8, 2, 7, 3]\n",
            "Sorted list: [2, 3, 7, 8, 10]\n"
          ]
        }
      ]
    },
    {
      "cell_type": "code",
      "source": [
        "# Function to find the length of a tuple\n",
        "def length_of_tuple(tpl):\n",
        "    return len(tpl)\n",
        "\n",
        "# Function to check if an element exists in the tuple\n",
        "def contains_in_tuple(tpl, element):\n",
        "    return element in tpl\n",
        "\n",
        "# Function to concatenate two tuples\n",
        "def concatenate_tuples(tpl1, tpl2):\n",
        "    return tpl1 + tpl2\n",
        "\n",
        "# Function to repeat a tuple n times\n",
        "def repeat_tuple(tpl, n):\n",
        "    return tpl * n\n",
        "\n",
        "# Test with an example tuple\n",
        "tpl = (1, 2, 3, 4)\n",
        "\n",
        "print(f\"Original tuple: {tpl}\")\n",
        "print(f\"Length of the tuple: {length_of_tuple(tpl)}\")\n",
        "print(f\"Does 3 exist in the tuple? {contains_in_tuple(tpl, 3)}\")\n",
        "print(f\"Concatenated tuple: {concatenate_tuples(tpl, (5, 6))}\")\n",
        "print(f\"Repeated tuple 3 times: {repeat_tuple(tpl, 3)}\")\n"
      ],
      "metadata": {
        "colab": {
          "base_uri": "https://localhost:8080/"
        },
        "id": "oQYvvQfS1o6V",
        "outputId": "6c197d6b-f2b4-4ba3-aece-fea6ff933280"
      },
      "execution_count": null,
      "outputs": [
        {
          "output_type": "stream",
          "name": "stdout",
          "text": [
            "Original tuple: (1, 2, 3, 4)\n",
            "Length of the tuple: 4\n",
            "Does 3 exist in the tuple? True\n",
            "Concatenated tuple: (1, 2, 3, 4, 5, 6)\n",
            "Repeated tuple 3 times: (1, 2, 3, 4, 1, 2, 3, 4, 1, 2, 3, 4)\n"
          ]
        }
      ]
    },
    {
      "cell_type": "code",
      "execution_count": null,
      "metadata": {
        "colab": {
          "base_uri": "https://localhost:8080/"
        },
        "id": "jYnPHXA-0lKb",
        "outputId": "ed9108a9-a772-4caa-b7f2-5b54a162ecbe"
      },
      "outputs": [
        {
          "output_type": "stream",
          "name": "stdout",
          "text": [
            "Original string: ' Hello, World! '\n",
            "Concatenated string: ' Hello, World!  How are you?'\n",
            "Length of string: 15\n",
            "Does 'World' exist in the string? True\n",
            "Lowercase string: ' hello, world! '\n",
            "Uppercase string: ' HELLO, WORLD! '\n",
            "Replaced 'World' with 'Python': ' Hello, Python! '\n",
            "Split string into words: ['', 'Hello,', 'World!', '']\n",
            "Stripped string: 'Hello, World!'\n"
          ]
        }
      ],
      "source": [
        "# Function to concatenate two strings\n",
        "def concatenate_strings(str1, str2):\n",
        "    return str1 + str2\n",
        "\n",
        "# Function to find the length of a string\n",
        "def length_of_string(s):\n",
        "    return len(s)\n",
        "\n",
        "# Function to check if a substring exists in a string\n",
        "def contains_substring(s, substring):\n",
        "    return substring in s\n",
        "\n",
        "# Function to convert a string to lowercase\n",
        "def to_lowercase(s):\n",
        "    return s.lower()\n",
        "\n",
        "# Function to convert a string to uppercase\n",
        "def to_uppercase(s):\n",
        "    return s.upper()\n",
        "\n",
        "# Function to replace a substring in a string\n",
        "def replace_substring(s, old, new):\n",
        "    return s.replace(old, new)\n",
        "\n",
        "# Function to split a string into a list of words\n",
        "def split_string(s, delimiter=\" \"):\n",
        "    return s.split(delimiter)\n",
        "\n",
        "# Function to strip leading and trailing spaces from a string\n",
        "def strip_string(s):\n",
        "    return s.strip()\n",
        "\n",
        "# Test with an example string\n",
        "s = \" Hello, World! \"\n",
        "\n",
        "print(f\"Original string: '{s}'\")\n",
        "print(f\"Concatenated string: '{concatenate_strings(s, ' How are you?')}'\")\n",
        "print(f\"Length of string: {length_of_string(s)}\")\n",
        "print(f\"Does 'World' exist in the string? {contains_substring(s, 'World')}\")\n",
        "print(f\"Lowercase string: '{to_lowercase(s)}'\")\n",
        "print(f\"Uppercase string: '{to_uppercase(s)}'\")\n",
        "print(f\"Replaced 'World' with 'Python': '{replace_substring(s, 'World', 'Python')}'\")\n",
        "print(f\"Split string into words: {split_string(s)}\")\n",
        "print(f\"Stripped string: '{strip_string(s)}'\")\n"
      ]
    },
    {
      "cell_type": "code",
      "source": [
        "# Function to add or update a key-value pair\n",
        "def add_or_update_dict(d, key, value):\n",
        "    d[key] = value\n",
        "    return d\n",
        "\n",
        "# Function to remove a key-value pair from the dictionary\n",
        "def remove_from_dict(d, key):\n",
        "    if key in d:\n",
        "        del d[key]\n",
        "    else:\n",
        "        return \"Key not found in dictionary.\"\n",
        "    return d\n",
        "\n",
        "# Function to get the value for a specific key\n",
        "def get_from_dict(d, key):\n",
        "    return d.get(key, \"Key not found.\")\n",
        "\n",
        "# Function to check if a key exists in the dictionary\n",
        "def contains_key(d, key):\n",
        "    return key in d\n",
        "\n",
        "# Function to get all keys in the dictionary\n",
        "def get_dict_keys(d):\n",
        "    return d.keys()\n",
        "\n",
        "# Test with an example dictionary\n",
        "d = {\"name\": \"Alice\", \"age\": 25, \"city\": \"New York\"}\n",
        "\n",
        "print(f\"Original dictionary: {d}\")\n",
        "print(f\"Add/update key 'age': {add_or_update_dict(d, 'age', 30)}\")\n",
        "print(f\"Remove key 'city': {remove_from_dict(d, 'city')}\")\n",
        "print(f\"Get value for key 'name': {get_from_dict(d, 'name')}\")\n",
        "print(f\"Does 'age' key exist? {contains_key(d, 'age')}\")\n",
        "print(f\"All keys in the dictionary: {get_dict_keys(d)}\")\n"
      ],
      "metadata": {
        "id": "HeclTsY303QF",
        "outputId": "86605351-3ce6-4bad-8c24-e8c58f0a91b9",
        "colab": {
          "base_uri": "https://localhost:8080/"
        }
      },
      "execution_count": null,
      "outputs": [
        {
          "output_type": "stream",
          "name": "stdout",
          "text": [
            "Original dictionary: {'name': 'Alice', 'age': 25, 'city': 'New York'}\n",
            "Add/update key 'age': {'name': 'Alice', 'age': 30, 'city': 'New York'}\n",
            "Remove key 'city': {'name': 'Alice', 'age': 30}\n",
            "Get value for key 'name': Alice\n",
            "Does 'age' key exist? True\n",
            "All keys in the dictionary: dict_keys(['name', 'age'])\n"
          ]
        }
      ]
    },
    {
      "cell_type": "code",
      "source": [
        "# Function to add an element to the set\n",
        "def add_to_set(s, element):\n",
        "    s.add(element)\n",
        "    return s\n",
        "\n",
        "# Function to remove an element from the set\n",
        "def remove_from_set(s, element):\n",
        "    if element in s:\n",
        "        s.remove(element)\n",
        "    else:\n",
        "        return \"Element not found in set.\"\n",
        "    return s\n",
        "\n",
        "# Function to check if an element exists in the set\n",
        "def contains_in_set(s, element):\n",
        "    return element in s\n",
        "\n",
        "# Function to find the union of two sets\n",
        "def union_sets(s1, s2):\n",
        "    return s1 | s2\n",
        "\n",
        "# Function to find the intersection of two sets\n",
        "def intersection_sets(s1, s2):\n",
        "    return s1 & s2\n",
        "\n",
        "# Test with an example set\n",
        "s = {1, 2, 3, 4}\n",
        "\n",
        "print(f\"Original set: {s}\")\n",
        "print(f\"Add 5 to set: {add_to_set(s, 5)}\")\n",
        "print(f\"Remove 3 from set: {remove_from_set(s, 3)}\")\n",
        "print(f\"Does 4 exist in the set? {contains_in_set(s, 4)}\")\n",
        "print(f\"Union with another set {s} | {add_to_set({5, 6}, 7)}: {union_sets(s, {5, 6})}\")\n",
        "print(f\"Intersection with another set {s} & {add_to_set({3, 5}, 7)}: {intersection_sets(s, {3, 5})}\")\n"
      ],
      "metadata": {
        "colab": {
          "base_uri": "https://localhost:8080/"
        },
        "id": "bxiNwfLz1VUK",
        "outputId": "69d450db-526f-4791-a26a-07319386c5ba"
      },
      "execution_count": null,
      "outputs": [
        {
          "output_type": "stream",
          "name": "stdout",
          "text": [
            "Original set: {1, 2, 3, 4}\n",
            "Add 5 to set: {1, 2, 3, 4, 5}\n",
            "Remove 3 from set: {1, 2, 4, 5}\n",
            "Does 4 exist in the set? True\n",
            "Union with another set {1, 2, 4, 5} | {5, 6, 7}: {1, 2, 4, 5, 6}\n",
            "Intersection with another set {1, 2, 4, 5} & {3, 5, 7}: {5}\n"
          ]
        }
      ]
    },
    {
      "cell_type": "code",
      "source": [
        "import array\n",
        "\n",
        "# Function to append an element to the array\n",
        "def append_to_array(arr, element):\n",
        "    arr.append(element)\n",
        "    return arr\n",
        "\n",
        "# Function to remove an element from the array\n",
        "def remove_from_array(arr, element):\n",
        "    if element in arr:\n",
        "        arr.remove(element)\n",
        "    else:\n",
        "        return \"Element not found in array.\"\n",
        "    return arr\n",
        "\n",
        "# Function to get the length of the array\n",
        "def length_of_array(arr):\n",
        "    return len(arr)\n",
        "\n",
        "# Function to find the index of an element in the array\n",
        "def index_of_element(arr, element):\n",
        "    if element in arr:\n",
        "        return arr.index(element)\n",
        "    else:\n",
        "        return \"Element not found in array.\"\n",
        "\n",
        "# Test with an example array\n",
        "arr = array.array('i', [1, 2, 3, 4])\n",
        "\n",
        "print(f\"Original array: {arr.tolist()}\")\n",
        "print(f\"Append 5 to array: {append_to_array(arr, 5)}\")\n",
        "print(f\"Remove 2 from array: {remove_from_array(arr, 2)}\")\n",
        "print(f\"Length of array: {length_of_array(arr)}\")\n",
        "print(f\"Index of element 3 in array: {index_of_element(arr, 3)}\")\n"
      ],
      "metadata": {
        "colab": {
          "base_uri": "https://localhost:8080/"
        },
        "id": "GKiPWrRG1eJW",
        "outputId": "a7a876b5-1fb0-4114-ac74-385f20e217d1"
      },
      "execution_count": null,
      "outputs": [
        {
          "output_type": "stream",
          "name": "stdout",
          "text": [
            "Original array: [1, 2, 3, 4]\n",
            "Append 5 to array: array('i', [1, 2, 3, 4, 5])\n",
            "Remove 2 from array: array('i', [1, 3, 4, 5])\n",
            "Length of array: 4\n",
            "Index of element 3 in array: 1\n"
          ]
        }
      ]
    },
    {
      "cell_type": "markdown",
      "source": [],
      "metadata": {
        "id": "CXX_zILD1dyL"
      }
    }
  ]
}